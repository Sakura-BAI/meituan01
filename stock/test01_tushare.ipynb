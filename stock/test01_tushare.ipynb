{
 "cells": [
  {
   "cell_type": "code",
   "execution_count": 12,
   "id": "e1735849",
   "metadata": {},
   "outputs": [
    {
     "name": "stdout",
     "output_type": "stream",
     "text": [
      "{'password': 'Xy914290709',\n",
      " 'token': '5b6a9ba1b1f37ab525667f2f05ce01b8461b1621',\n",
      " 'username': '15574993869'}\n"
     ]
    },
    {
     "ename": "AttributeError",
     "evalue": "module 'jqdatapy' has no attribute 'get_index_stocks'",
     "output_type": "error",
     "traceback": [
      "\u001b[1;31m---------------------------------------------------------------------------\u001b[0m",
      "\u001b[1;31mAttributeError\u001b[0m                            Traceback (most recent call last)",
      "\u001b[1;32m<ipython-input-12-9ede30597fa0>\u001b[0m in \u001b[0;36m<module>\u001b[1;34m\u001b[0m\n\u001b[0;32m     10\u001b[0m \u001b[1;31m# print(get_bars(code='000338.XSHE'))\u001b[0m\u001b[1;33m\u001b[0m\u001b[1;33m\u001b[0m\u001b[1;33m\u001b[0m\u001b[0m\n\u001b[0;32m     11\u001b[0m \u001b[1;33m\u001b[0m\u001b[0m\n\u001b[1;32m---> 12\u001b[1;33m \u001b[0mg\u001b[0m\u001b[1;33m.\u001b[0m\u001b[0msecurity\u001b[0m \u001b[1;33m=\u001b[0m \u001b[0mjq\u001b[0m\u001b[1;33m.\u001b[0m\u001b[0mget_index_stocks\u001b[0m\u001b[1;33m(\u001b[0m\u001b[1;34m'000300.XSHG'\u001b[0m\u001b[1;33m)\u001b[0m    \u001b[1;31m# 沪深300\u001b[0m\u001b[1;33m\u001b[0m\u001b[1;33m\u001b[0m\u001b[0m\n\u001b[0m\u001b[0;32m     13\u001b[0m \u001b[0mprint\u001b[0m\u001b[1;33m(\u001b[0m\u001b[0mg\u001b[0m\u001b[1;33m.\u001b[0m\u001b[0msecurity\u001b[0m\u001b[1;33m)\u001b[0m\u001b[1;33m\u001b[0m\u001b[1;33m\u001b[0m\u001b[0m\n\u001b[0;32m     14\u001b[0m \u001b[1;33m\u001b[0m\u001b[0m\n",
      "\u001b[1;31mAttributeError\u001b[0m: module 'jqdatapy' has no attribute 'get_index_stocks'"
     ]
    }
   ],
   "source": [
    "# _*_coding:utf-8 _*_\n",
    "# import pandas as pd\n",
    "# import numpy as np\n",
    "# import datetime as dt\n",
    "# import os\n",
    "# import time\n",
    "import jqdatapy as jq\n",
    "\n",
    "init_env(username='15574993869',password='Xy914290709')\n",
    "# print(get_bars(code='000338.XSHE'))\n",
    "\n",
    "g.security = jq.get_index_stocks('000300.XSHG')    # 沪深300\n",
    "print(g.security)\n",
    "\n",
    "# class baixi:\n",
    "    \n",
    "#     # 初始化函数，设定基准\n",
    "#     def initialize(context):\n",
    "#         # 定义一个全局变量, 保存要操作的股票\n",
    "#         # 方式一:操作一只股票\n",
    "#         # g.security = '601318.XSHG'    # 中国平安股票\n",
    "#         # 方式二:操作多只股票\n",
    "#         # g.security = ['601101.XSHG', '601106.XSHG']\n",
    "#         # 方式三:操作指数成分股\n",
    "#         g.security = get_index_stocks('000300.XSHG')    # 沪深300\n",
    "#         print(g.security)\n",
    "\n",
    "# if __name__ == '__main__':\n",
    "#     a= baixi().initialize()\n",
    "   \n",
    "        \n",
    "\n",
    "    "
   ]
  },
  {
   "cell_type": "code",
   "execution_count": 3,
   "id": "e014e63f",
   "metadata": {},
   "outputs": [],
   "source": [
    "a =1"
   ]
  },
  {
   "cell_type": "code",
   "execution_count": null,
   "id": "fae37943",
   "metadata": {},
   "outputs": [],
   "source": []
  }
 ],
 "metadata": {
  "kernelspec": {
   "display_name": "Python 3",
   "language": "python",
   "name": "python3"
  },
  "language_info": {
   "codemirror_mode": {
    "name": "ipython",
    "version": 3
   },
   "file_extension": ".py",
   "mimetype": "text/x-python",
   "name": "python",
   "nbconvert_exporter": "python",
   "pygments_lexer": "ipython3",
   "version": "3.8.6"
  }
 },
 "nbformat": 4,
 "nbformat_minor": 5
}

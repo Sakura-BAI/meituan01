{
 "cells": [
  {
   "cell_type": "code",
   "execution_count": 5,
   "id": "1d637f62",
   "metadata": {},
   "outputs": [
    {
     "name": "stdout",
     "output_type": "stream",
     "text": [
      "2021-06-11 13:32:41\n",
      "13:32\n",
      "2021-06-11-13_32_41\n"
     ]
    }
   ],
   "source": [
    "import time\n",
    " \n",
    "# 格式化成2016-03-20 11:45:39形式\n",
    "print (time.strftime(\"%Y-%m-%d %H:%M:%S\", time.localtime()) ) \n",
    "print (time.strftime(\"%H:%M\", time.localtime()) ) \n",
    "print(time.strftime(\"%Y-%m-%d-%H_%M_%S\", time.localtime(time.time())))"
   ]
  },
  {
   "cell_type": "code",
   "execution_count": 6,
   "id": "2a7556c1",
   "metadata": {},
   "outputs": [
    {
     "name": "stdout",
     "output_type": "stream",
     "text": [
      "            日期       城市维度         数值\n",
      "0     20210501     株洲-销售额  241241.05\n",
      "1     20210502     株洲-销售额  245865.25\n",
      "2     20210503     株洲-销售额  234476.61\n",
      "3     20210504     株洲-销售额  319913.32\n",
      "4     20210505     株洲-销售额  330867.50\n",
      "...        ...        ...        ...\n",
      "1035  20210605  长沙-店均销售件数      24.93\n",
      "1036  20210606  长沙-店均销售件数      25.09\n",
      "1037  20210607  长沙-店均销售件数      30.00\n",
      "1038  20210608  长沙-店均销售件数      29.36\n",
      "1039  20210609  长沙-店均销售件数      26.62\n",
      "\n",
      "[1040 rows x 3 columns]\n"
     ]
    }
   ],
   "source": [
    "# _*_coding:utf-8 _*_\n",
    "import pandas as pd\n",
    "import numpy as np\n",
    "import os\n",
    "import time\n",
    "\n",
    "\n",
    "path =  r\"C:\\Users\\1\\Desktop\\工作\\202106\\练习文件\"\n",
    "\n",
    "path1 = r\"C:\\Users\\1\\Desktop\\工作\\202106\\save\"\n",
    "\n",
    "# 当前时间格式，很有用。\n",
    "tim = time.strftime(\"%Y-%m-%d-%H_%M_%S\", time.localtime(time.time()))\n",
    "\n",
    "filenames = os.listdir(path)\n",
    "df = pd.DataFrame()\n",
    "for i in filenames:\n",
    "    #     print (path + '\\\\'+ i )   -- 验证地址\n",
    "    data = pd.read_excel(path + '\\\\' + i)\n",
    "    df = df.append(data)\n",
    "\n",
    "data1=  pd.melt(df,id_vars=['日期'],var_name=\"城市维度\", value_name=\"数值\")\n",
    "\n",
    "print(data1)"
   ]
  },
  {
   "cell_type": "code",
   "execution_count": null,
   "id": "32d06db7",
   "metadata": {},
   "outputs": [],
   "source": []
  }
 ],
 "metadata": {
  "kernelspec": {
   "display_name": "Python 3",
   "language": "python",
   "name": "python3"
  },
  "language_info": {
   "codemirror_mode": {
    "name": "ipython",
    "version": 3
   },
   "file_extension": ".py",
   "mimetype": "text/x-python",
   "name": "python",
   "nbconvert_exporter": "python",
   "pygments_lexer": "ipython3",
   "version": "3.8.6"
  }
 },
 "nbformat": 4,
 "nbformat_minor": 5
}

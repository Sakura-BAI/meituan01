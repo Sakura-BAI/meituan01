{
 "cells": [
  {
   "cell_type": "code",
   "execution_count": 126,
   "id": "0c288889",
   "metadata": {},
   "outputs": [
    {
     "name": "stdout",
     "output_type": "stream",
     "text": [
      "                     0       1\n",
      "日期       数值                   \n",
      "20210501 241241.05  株洲     销售额\n",
      "20210502 245865.25  株洲     销售额\n",
      "20210503 234476.61  株洲     销售额\n",
      "20210504 319913.32  株洲     销售额\n",
      "20210505 330867.50  株洲     销售额\n",
      "...                 ..     ...\n",
      "20210605 24.93      长沙  店均销售件数\n",
      "20210606 25.09      长沙  店均销售件数\n",
      "20210607 30.00      长沙  店均销售件数\n",
      "20210608 29.36      长沙  店均销售件数\n",
      "20210609 26.62      长沙  店均销售件数\n",
      "\n",
      "[1040 rows x 2 columns]\n",
      "            日期         数值   0       1\n",
      "0     20210501  241241.05  株洲     销售额\n",
      "1     20210502  245865.25  株洲     销售额\n",
      "2     20210503  234476.61  株洲     销售额\n",
      "3     20210504  319913.32  株洲     销售额\n",
      "4     20210505  330867.50  株洲     销售额\n",
      "...        ...        ...  ..     ...\n",
      "1035  20210605      24.93  长沙  店均销售件数\n",
      "1036  20210606      25.09  长沙  店均销售件数\n",
      "1037  20210607      30.00  长沙  店均销售件数\n",
      "1038  20210608      29.36  长沙  店均销售件数\n",
      "1039  20210609      26.62  长沙  店均销售件数\n",
      "\n",
      "[1040 rows x 4 columns]\n",
      "                           数值\n",
      "日期       0  1                \n",
      "20210501 株洲 销售额     241241.05\n",
      "20210502 株洲 销售额     245865.25\n",
      "20210503 株洲 销售额     234476.61\n",
      "20210504 株洲 销售额     319913.32\n",
      "20210505 株洲 销售额     330867.50\n",
      "...                       ...\n",
      "20210605 长沙 店均销售件数      24.93\n",
      "20210606 长沙 店均销售件数      25.09\n",
      "20210607 长沙 店均销售件数      30.00\n",
      "20210608 长沙 店均销售件数      29.36\n",
      "20210609 长沙 店均销售件数      26.62\n",
      "\n",
      "[1040 rows x 1 columns]\n"
     ]
    }
   ],
   "source": [
    "# _*_coding:utf-8 _*_\n",
    "import pandas as pd\n",
    "import numpy as np\n",
    "# import os\n",
    "# import time\n",
    "\n",
    "path =  r\"C:\\Users\\1\\Desktop\\工作\\202106\\练习文件\\处理数据.xlsx\"\n",
    "\n",
    "\n",
    "data = pd.read_excel(path)\n",
    "\n",
    "data1=  pd.melt(data,id_vars=['日期'],var_name=\"城市维度\", value_name=\"数值\")\n",
    "\n",
    "\n",
    "# 总算对了，设置两级索引。这样就不会变\n",
    "data1 = data1.set_index(['日期','数值'] )[\"城市维度\"].str.split(\"-\", expand=True)\n",
    "data1 =data1.[\"城市维度\"].str.split(\"-\", expand=True)\n",
    "\n",
    "\n",
    "\n",
    "# data1.to_excel(r\"C:\\Users\\1\\Desktop\\工作\\202106\\练习文件\\1.xlsx\")\n",
    "\n",
    "# [\"城市维度\"].str.split(\"-\", expand=True)\n",
    "\n",
    "print (data1)\n",
    "\n",
    "data2 = data1.reset_index()\n",
    "print(data2)\n",
    "\n",
    "data2 = data2.set_index(['日期',0,1])\n",
    "print(data2)"
   ]
  },
  {
   "cell_type": "code",
   "execution_count": 124,
   "id": "1bb8adff",
   "metadata": {},
   "outputs": [
    {
     "name": "stdout",
     "output_type": "stream",
     "text": [
      "                 数值            \n",
      "1            店均销售件数         销售额\n",
      "日期       0                     \n",
      "20210501 娄底   10.99    86553.32\n",
      "         岳阳   12.88   128740.85\n",
      "         常德    9.76    71587.48\n",
      "         张家界  14.18    49497.89\n",
      "         怀化   11.01    28374.47\n",
      "...             ...         ...\n",
      "20210609 益阳   16.25   215715.77\n",
      "         衡阳   14.16   162158.51\n",
      "         邵阳   12.10    87967.26\n",
      "         郴州   14.57    81448.60\n",
      "         长沙   26.62  1654882.28\n",
      "\n",
      "[520 rows x 2 columns]\n"
     ]
    }
   ],
   "source": [
    "\n",
    "# print(data2)\n",
    "data4 = data2.unstack()\n",
    "print(data4)"
   ]
  },
  {
   "cell_type": "code",
   "execution_count": 125,
   "id": "1e410674",
   "metadata": {},
   "outputs": [
    {
     "name": "stdout",
     "output_type": "stream",
     "text": [
      "           日期    0     数值            \n",
      "1                  店均销售件数         销售额\n",
      "0    20210501   娄底  10.99    86553.32\n",
      "1    20210501   岳阳  12.88   128740.85\n",
      "2    20210501   常德   9.76    71587.48\n",
      "3    20210501  张家界  14.18    49497.89\n",
      "4    20210501   怀化  11.01    28374.47\n",
      "..        ...  ...    ...         ...\n",
      "515  20210609   益阳  16.25   215715.77\n",
      "516  20210609   衡阳  14.16   162158.51\n",
      "517  20210609   邵阳  12.10    87967.26\n",
      "518  20210609   郴州  14.57    81448.60\n",
      "519  20210609   长沙  26.62  1654882.28\n",
      "\n",
      "[520 rows x 4 columns]\n"
     ]
    }
   ],
   "source": [
    "data4= data4.reset_index().rename_axis()\n",
    "print(data4)\n",
    "data4.to_excel(r\"C:\\Users\\1\\Desktop\\工作\\202106\\练习文件\\处理数据123.xlsx\")"
   ]
  },
  {
   "cell_type": "code",
   "execution_count": 87,
   "id": "05181d81",
   "metadata": {},
   "outputs": [
    {
     "data": {
      "text/plain": [
       "Index(['日期', '数值', 0, 1], dtype='object')"
      ]
     },
     "execution_count": 87,
     "metadata": {},
     "output_type": "execute_result"
    }
   ],
   "source": []
  },
  {
   "cell_type": "code",
   "execution_count": 32,
   "id": "aae2b129",
   "metadata": {},
   "outputs": [
    {
     "name": "stdout",
     "output_type": "stream",
     "text": [
      "日期         \n",
      "20210501  0        株洲\n",
      "          1       销售额\n",
      "20210502  0        株洲\n",
      "          1       销售额\n",
      "20210503  0        株洲\n",
      "                ...  \n",
      "20210607  1    店均销售件数\n",
      "20210608  0        长沙\n",
      "          1    店均销售件数\n",
      "20210609  0        长沙\n",
      "          1    店均销售件数\n",
      "Length: 2080, dtype: object\n"
     ]
    }
   ],
   "source": []
  },
  {
   "cell_type": "code",
   "execution_count": null,
   "id": "250f863f",
   "metadata": {},
   "outputs": [],
   "source": []
  }
 ],
 "metadata": {
  "kernelspec": {
   "display_name": "Python 3",
   "language": "python",
   "name": "python3"
  },
  "language_info": {
   "codemirror_mode": {
    "name": "ipython",
    "version": 3
   },
   "file_extension": ".py",
   "mimetype": "text/x-python",
   "name": "python",
   "nbconvert_exporter": "python",
   "pygments_lexer": "ipython3",
   "version": "3.8.6"
  }
 },
 "nbformat": 4,
 "nbformat_minor": 5
}

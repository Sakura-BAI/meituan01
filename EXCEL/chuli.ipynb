{
 "cells": [
  {
   "cell_type": "code",
   "execution_count": 129,
   "id": "0c288889",
   "metadata": {},
   "outputs": [
    {
     "name": "stdout",
     "output_type": "stream",
     "text": [
      "           日期  数值   0     1\n",
      "0    20210301   1  株洲  销售件数\n",
      "1    20210302   1  株洲  销售件数\n",
      "2    20210303   1  株洲  销售件数\n",
      "3    20210304   1  株洲  销售件数\n",
      "4    20210305   1  株洲  销售件数\n",
      "..        ...  ..  ..   ...\n",
      "171  20210312   1  娄底   销售额\n",
      "172  20210313   1  娄底   销售额\n",
      "173  20210314   1  娄底   销售额\n",
      "174  20210315   1  娄底   销售额\n",
      "175  20210316   1  娄底   销售额\n",
      "\n",
      "[176 rows x 4 columns]\n",
      "                  数值\n",
      "日期       0  1       \n",
      "20210301 株洲 销售件数   1\n",
      "20210302 株洲 销售件数   1\n",
      "20210303 株洲 销售件数   1\n",
      "20210304 株洲 销售件数   1\n",
      "20210305 株洲 销售件数   1\n",
      "...               ..\n",
      "20210312 娄底 销售额    1\n",
      "20210313 娄底 销售额    1\n",
      "20210314 娄底 销售额    1\n",
      "20210315 娄底 销售额    1\n",
      "20210316 娄底 销售额    1\n",
      "\n",
      "[176 rows x 1 columns]\n"
     ]
    }
   ],
   "source": [
    "# _*_coding:utf-8 _*_\n",
    "import pandas as pd\n",
    "import numpy as np\n",
    "# import os\n",
    "# import time\n",
    "\n",
    "path =  r\"C:\\Users\\1\\Desktop\\工作\\202106\\练习文件\\处理数据.xlsx\"\n",
    "\n",
    "\n",
    "data = pd.read_excel(path)\n",
    "\n",
    "data1=  pd.melt(data,id_vars=['日期'],var_name=\"城市维度\", value_name=\"数值\")\n",
    "\n",
    "\n",
    "\n",
    "\n",
    "# 总算对了，设置两级索引。这样就不会变\n",
    "data1 = data1.set_index(['日期','数值'] )[\"城市维度\"].str.split(\"-\", expand=True)\n",
    "\n",
    "# print(data1)\n",
    "# data1 =data1.[\"城市维度\"].str.split(\"-\", expand=True)\n",
    "\n",
    "\n",
    "\n",
    "# # data1.to_excel(r\"C:\\Users\\1\\Desktop\\工作\\202106\\练习文件\\1.xlsx\")\n",
    "\n",
    "# # [\"城市维度\"].str.split(\"-\", expand=True)\n",
    "\n",
    "# print (data1)\n",
    "\n",
    "data2 = data1.reset_index()\n",
    "print(data2)\n",
    "\n",
    "data2 = data2.set_index(['日期',0,1])\n",
    "print(data2)"
   ]
  },
  {
   "cell_type": "code",
   "execution_count": 130,
   "id": "1bb8adff",
   "metadata": {},
   "outputs": [
    {
     "name": "stdout",
     "output_type": "stream",
     "text": [
      "               数值     \n",
      "1            销售件数  销售额\n",
      "日期       0            \n",
      "20210301 娄底   NaN  1.0\n",
      "         岳阳   1.0  NaN\n",
      "         张家界  NaN  1.0\n",
      "         怀化   NaN  1.0\n",
      "         株洲   1.0  NaN\n",
      "...           ...  ...\n",
      "20210316 湘潭   1.0  NaN\n",
      "         益阳   NaN  1.0\n",
      "         衡阳   1.0  NaN\n",
      "         邵阳   1.0  NaN\n",
      "         郴州   NaN  1.0\n",
      "\n",
      "[176 rows x 2 columns]\n"
     ]
    }
   ],
   "source": [
    "\n",
    "# print(data2)\n",
    "data4 = data2.unstack()\n",
    "print(data4)"
   ]
  },
  {
   "cell_type": "code",
   "execution_count": 131,
   "id": "1e410674",
   "metadata": {},
   "outputs": [
    {
     "name": "stdout",
     "output_type": "stream",
     "text": [
      "           日期    0   数值     \n",
      "1                  销售件数  销售额\n",
      "0    20210301   娄底  NaN  1.0\n",
      "1    20210301   岳阳  1.0  NaN\n",
      "2    20210301  张家界  NaN  1.0\n",
      "3    20210301   怀化  NaN  1.0\n",
      "4    20210301   株洲  1.0  NaN\n",
      "..        ...  ...  ...  ...\n",
      "171  20210316   湘潭  1.0  NaN\n",
      "172  20210316   益阳  NaN  1.0\n",
      "173  20210316   衡阳  1.0  NaN\n",
      "174  20210316   邵阳  1.0  NaN\n",
      "175  20210316   郴州  NaN  1.0\n",
      "\n",
      "[176 rows x 4 columns]\n"
     ]
    }
   ],
   "source": [
    "data4= data4.reset_index().rename_axis()\n",
    "print(data4)\n",
    "data4.to_excel(r\"C:\\Users\\1\\Desktop\\工作\\202106\\练习文件\\处理数据123.xlsx\")"
   ]
  },
  {
   "cell_type": "code",
   "execution_count": 87,
   "id": "05181d81",
   "metadata": {},
   "outputs": [
    {
     "data": {
      "text/plain": [
       "Index(['日期', '数值', 0, 1], dtype='object')"
      ]
     },
     "execution_count": 87,
     "metadata": {},
     "output_type": "execute_result"
    }
   ],
   "source": []
  },
  {
   "cell_type": "code",
   "execution_count": 32,
   "id": "aae2b129",
   "metadata": {},
   "outputs": [
    {
     "name": "stdout",
     "output_type": "stream",
     "text": [
      "日期         \n",
      "20210501  0        株洲\n",
      "          1       销售额\n",
      "20210502  0        株洲\n",
      "          1       销售额\n",
      "20210503  0        株洲\n",
      "                ...  \n",
      "20210607  1    店均销售件数\n",
      "20210608  0        长沙\n",
      "          1    店均销售件数\n",
      "20210609  0        长沙\n",
      "          1    店均销售件数\n",
      "Length: 2080, dtype: object\n"
     ]
    }
   ],
   "source": []
  },
  {
   "cell_type": "code",
   "execution_count": null,
   "id": "250f863f",
   "metadata": {},
   "outputs": [],
   "source": []
  }
 ],
 "metadata": {
  "kernelspec": {
   "display_name": "Python 3",
   "language": "python",
   "name": "python3"
  },
  "language_info": {
   "codemirror_mode": {
    "name": "ipython",
    "version": 3
   },
   "file_extension": ".py",
   "mimetype": "text/x-python",
   "name": "python",
   "nbconvert_exporter": "python",
   "pygments_lexer": "ipython3",
   "version": "3.8.6"
  }
 },
 "nbformat": 4,
 "nbformat_minor": 5
}

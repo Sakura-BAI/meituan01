{
 "cells": [
  {
   "cell_type": "code",
   "execution_count": 2,
   "id": "8ca722d4",
   "metadata": {},
   "outputs": [],
   "source": [
    "# _*_coding:utf-8 _*_\n",
    "import pandas as pd\n",
    "import numpy as np\n",
    "import os\n",
    "import time\n",
    "\n",
    "\n",
    "def get_data():\n",
    "    a= 1\n",
    "    b= 2\n",
    "    c = [1,2]\n",
    "    \n",
    "\n",
    "    return a,b,c\n"
   ]
  },
  {
   "cell_type": "code",
   "execution_count": 9,
   "id": "14b0284a",
   "metadata": {},
   "outputs": [
    {
     "data": {
      "text/plain": [
       "[1, 2]"
      ]
     },
     "execution_count": 9,
     "metadata": {},
     "output_type": "execute_result"
    }
   ],
   "source": [
    "get_data()[2]"
   ]
  },
  {
   "cell_type": "code",
   "execution_count": null,
   "id": "e5482884",
   "metadata": {},
   "outputs": [],
   "source": []
  }
 ],
 "metadata": {
  "kernelspec": {
   "display_name": "Python 3",
   "language": "python",
   "name": "python3"
  },
  "language_info": {
   "codemirror_mode": {
    "name": "ipython",
    "version": 3
   },
   "file_extension": ".py",
   "mimetype": "text/x-python",
   "name": "python",
   "nbconvert_exporter": "python",
   "pygments_lexer": "ipython3",
   "version": "3.8.6"
  }
 },
 "nbformat": 4,
 "nbformat_minor": 5
}
